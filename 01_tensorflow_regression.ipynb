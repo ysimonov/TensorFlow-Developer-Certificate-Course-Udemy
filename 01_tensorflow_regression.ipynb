{
  "nbformat": 4,
  "nbformat_minor": 0,
  "metadata": {
    "colab": {
      "name": "01_tensorflow_regression.ipynb",
      "provenance": [],
      "collapsed_sections": [],
      "authorship_tag": "ABX9TyOGPfu9hTb9pjRPxH2pZV1S",
      "include_colab_link": true
    },
    "kernelspec": {
      "name": "python3",
      "display_name": "Python 3"
    },
    "language_info": {
      "name": "python"
    }
  },
  "cells": [
    {
      "cell_type": "markdown",
      "metadata": {
        "id": "view-in-github",
        "colab_type": "text"
      },
      "source": [
        "<a href=\"https://colab.research.google.com/github/ysimonov/TensorFlow-Developer-Certificate-Course-Udemy/blob/main/01_tensorflow_regression.ipynb\" target=\"_parent\"><img src=\"https://colab.research.google.com/assets/colab-badge.svg\" alt=\"Open In Colab\"/></a>"
      ]
    },
    {
      "cell_type": "markdown",
      "source": [
        "# Introduction to Regression with Neural Networks in Tensorflow\n",
        "\n",
        "Regression problem: predicting a number based on other (input) numbers."
      ],
      "metadata": {
        "id": "OvJyRwDGrD5x"
      }
    },
    {
      "cell_type": "code",
      "source": [
        "import tensorflow as tf\n",
        "import numpy as np\n",
        "import matplotlib.pyplot as plt\n",
        "\n",
        "print(tf.__version__)"
      ],
      "metadata": {
        "colab": {
          "base_uri": "https://localhost:8080/"
        },
        "id": "7CIFlHoRwW-a",
        "outputId": "2eaf3a4a-d3a3-452e-e66e-b4f9315d46f2"
      },
      "execution_count": 1,
      "outputs": [
        {
          "output_type": "stream",
          "name": "stdout",
          "text": [
            "2.8.2\n"
          ]
        }
      ]
    },
    {
      "cell_type": "markdown",
      "source": [
        "### Creating some data for view and fit"
      ],
      "metadata": {
        "id": "4VYMWObPweTg"
      }
    },
    {
      "cell_type": "code",
      "source": [
        "# Create features\n",
        "X = np.array([-7, -4, -1, 2, 5, 8, 11, 14], dtype=np.float32)\n",
        "\n",
        "# Create labels\n",
        "y = np.array([3, 6, 9, 12, 15, 18, 21, 24], dtype=np.float32)\n",
        "\n",
        "# Visualize data\n",
        "plt.scatter(X, y)"
      ],
      "metadata": {
        "colab": {
          "base_uri": "https://localhost:8080/",
          "height": 286
        },
        "id": "BK_zpG6Uwrvq",
        "outputId": "1dccbad9-b6f8-43fd-d454-709b66c130c0"
      },
      "execution_count": null,
      "outputs": [
        {
          "output_type": "execute_result",
          "data": {
            "text/plain": [
              "<matplotlib.collections.PathCollection at 0x7fd0176df450>"
            ]
          },
          "metadata": {},
          "execution_count": 6
        },
        {
          "output_type": "display_data",
          "data": {
            "text/plain": [
              "<Figure size 432x288 with 1 Axes>"
            ],
            "image/png": "[encoded data removed]"
          },
          "metadata": {
            "needs_background": "light"
          }
        }
      ]
    },
    {
      "cell_type": "code",
      "source": [
        "# Relationship that neural network should learn\n",
        "y == X + 10"
      ],
      "metadata": {
        "colab": {
          "base_uri": "https://localhost:8080/"
        },
        "id": "LZM-cQRvwyoh",
        "outputId": "243c1a80-5195-4b3d-9f82-8620ada0e8de"
      },
      "execution_count": null,
      "outputs": [
        {
          "output_type": "execute_result",
          "data": {
            "text/plain": [
              "array([ True,  True,  True,  True,  True,  True,  True,  True])"
            ]
          },
          "metadata": {},
          "execution_count": 9
        }
      ]
    },
    {
      "cell_type": "markdown",
      "source": [
        "### Input and Output shapes"
      ],
      "metadata": {
        "id": "7CAJrVOCxVU_"
      }
    },
    {
      "cell_type": "code",
      "source": [
        "# Create a demo tensor for price prediction problem\n",
        "house_info = tf.constant([\"bedroom\", \"bathroom\", \"garage\"])\n",
        "house_price = tf.constant([939700])\n",
        "house_info, house_price"
      ],
      "metadata": {
        "colab": {
          "base_uri": "https://localhost:8080/"
        },
        "id": "jeCAN_e-xfcp",
        "outputId": "60b3f397-19f2-4717-a5fb-9acef92cd50b"
      },
      "execution_count": null,
      "outputs": [
        {
          "output_type": "execute_result",
          "data": {
            "text/plain": [
              "(<tf.Tensor: shape=(3,), dtype=string, numpy=array([b'bedroom', b'bathroom', b'garage'], dtype=object)>,\n",
              " <tf.Tensor: shape=(1,), dtype=int32, numpy=array([939700], dtype=int32)>)"
            ]
          },
          "metadata": {},
          "execution_count": 10
        }
      ]
    },
    {
      "cell_type": "code",
      "source": [
        "input_shape = X.shape\n",
        "output_shape = y.shape\n",
        "input_shape, output_shape"
      ],
      "metadata": {
        "colab": {
          "base_uri": "https://localhost:8080/"
        },
        "id": "-5Pbq-HVx5Xq",
        "outputId": "20941616-8680-4f30-94bc-0f474a8e3055"
      },
      "execution_count": null,
      "outputs": [
        {
          "output_type": "execute_result",
          "data": {
            "text/plain": [
              "((8,), (8,))"
            ]
          },
          "metadata": {},
          "execution_count": 11
        }
      ]
    },
    {
      "cell_type": "code",
      "source": [
        "# Turn Numpy arrays into tensors\n",
        "X = tf.constant(X)\n",
        "y = tf.constant(y)\n",
        "X, y"
      ],
      "metadata": {
        "colab": {
          "base_uri": "https://localhost:8080/"
        },
        "id": "CBSzi-62yIy8",
        "outputId": "a890c90c-3f06-4a72-9f03-fbc3dcdb8557"
      },
      "execution_count": null,
      "outputs": [
        {
          "output_type": "execute_result",
          "data": {
            "text/plain": [
              "(<tf.Tensor: shape=(8,), dtype=float32, numpy=array([-7., -4., -1.,  2.,  5.,  8., 11., 14.], dtype=float32)>,\n",
              " <tf.Tensor: shape=(8,), dtype=float32, numpy=array([ 3.,  6.,  9., 12., 15., 18., 21., 24.], dtype=float32)>)"
            ]
          },
          "metadata": {},
          "execution_count": 12
        }
      ]
    },
    {
      "cell_type": "code",
      "source": [
        "input_shape = X[0].shape\n",
        "output_shape = y[0].shape\n",
        "input_shape, output_shape"
      ],
      "metadata": {
        "colab": {
          "base_uri": "https://localhost:8080/"
        },
        "id": "ewFLQNJWzQTd",
        "outputId": "e56a54a2-a131-41fe-b0e2-d63576e2e3a0"
      },
      "execution_count": null,
      "outputs": [
        {
          "output_type": "execute_result",
          "data": {
            "text/plain": [
              "(TensorShape([]), TensorShape([]))"
            ]
          },
          "metadata": {},
          "execution_count": 13
        }
      ]
    },
    {
      "cell_type": "markdown",
      "source": [
        "### Steps in modelling with TensorFlow\n",
        "\n",
        "1. **Creating a model** - define the input and output layers, as well as the hidden layers\n",
        "2. **Compiling a model** - define the loss function (in other words, the function that tells how wrong prediction of the model is relative to desired outputs),\n",
        "and the optimizer (tells our model to improve patterns its learning) and evaluate metrics (what can be used to interpret the performance of the model)\n",
        "3. **Fitting a model** - letting the model try to find patterns between X and y (features and labels)"
      ],
      "metadata": {
        "id": "H98GHPfczbRs"
      }
    },
    {
      "cell_type": "markdown",
      "source": [
        "### Summary of Required Steps\n",
        "* Get data ready (turn it into tensors)\n",
        "* Build or pick a pretrained model\n",
        "* Fit the model to the data and make a prediction\n",
        "* Evaluate the model\n",
        "* Improve through experimentation\n",
        "* Save and reload trained model"
      ],
      "metadata": {
        "id": "Cyfd36ss0MyM"
      }
    },
    {
      "cell_type": "markdown",
      "source": [
        "### Defining a Simple Linear Regression Model"
      ],
      "metadata": {
        "id": "gUUX8hHM-XAg"
      }
    },
    {
      "cell_type": "code",
      "source": [
        "# Set random seed\n",
        "tf.random.set_seed(42)\n",
        "\n",
        "# 1. Create a model using the Sequential API\n",
        "model = tf.keras.Sequential([\n",
        "  tf.keras.layers.Dense(1)\n",
        "])\n",
        "\n",
        "# 2. Compile the model\n",
        "model.compile(\n",
        "    loss=tf.keras.losses.mae, # Mean Absolute Error\n",
        "    optimizer=tf.keras.optimizers.SGD(), # Stochastic Gradient Descent\n",
        "    metrics=[\"mae\"] # can use string instead of tf.keras.losses.mae\n",
        ")\n",
        "\n",
        "# 3. Fit the model\n",
        "# tf.expand_dims is used to convert (n,) into (n, 1) shape\n",
        "model.fit(tf.expand_dims(X, axis=-1), y, epochs=5)"
      ],
      "metadata": {
        "colab": {
          "base_uri": "https://localhost:8080/"
        },
        "id": "IXlKyAOK1XvI",
        "outputId": "9b8e6d43-7a40-42ec-dd11-57cbb44e2b91"
      },
      "execution_count": null,
      "outputs": [
        {
          "output_type": "stream",
          "name": "stdout",
          "text": [
            "Epoch 1/5\n",
            "1/1 [==============================] - 1s 1s/step - loss: 11.5048 - mae: 11.5048\n",
            "Epoch 2/5\n",
            "1/1 [==============================] - 0s 19ms/step - loss: 11.3723 - mae: 11.3723\n",
            "Epoch 3/5\n",
            "1/1 [==============================] - 0s 19ms/step - loss: 11.2398 - mae: 11.2398\n",
            "Epoch 4/5\n",
            "1/1 [==============================] - 0s 19ms/step - loss: 11.1073 - mae: 11.1073\n",
            "Epoch 5/5\n",
            "1/1 [==============================] - 0s 28ms/step - loss: 10.9748 - mae: 10.9748\n"
          ]
        },
        {
          "output_type": "execute_result",
          "data": {
            "text/plain": [
              "<keras.callbacks.History at 0x7fd00fa25b50>"
            ]
          },
          "metadata": {},
          "execution_count": 17
        }
      ]
    },
    {
      "cell_type": "code",
      "source": [
        "# Check out X and y\n",
        "X, y"
      ],
      "metadata": {
        "colab": {
          "base_uri": "https://localhost:8080/"
        },
        "id": "2qulOU7v1deT",
        "outputId": "01b99811-c670-4cec-90ee-4ac2efd21997"
      },
      "execution_count": null,
      "outputs": [
        {
          "output_type": "execute_result",
          "data": {
            "text/plain": [
              "(<tf.Tensor: shape=(8,), dtype=float32, numpy=array([-7., -4., -1.,  2.,  5.,  8., 11., 14.], dtype=float32)>,\n",
              " <tf.Tensor: shape=(8,), dtype=float32, numpy=array([ 3.,  6.,  9., 12., 15., 18., 21., 24.], dtype=float32)>)"
            ]
          },
          "metadata": {},
          "execution_count": 18
        }
      ]
    },
    {
      "cell_type": "code",
      "source": [
        "# Try to make a prediction using trained model\n",
        "y_pred = model.predict([17.0])\n",
        "y_pred"
      ],
      "metadata": {
        "colab": {
          "base_uri": "https://localhost:8080/"
        },
        "id": "QK0zMf3u9MMc",
        "outputId": "ef05045a-ea03-433d-e2ed-005d23a88a0a"
      },
      "execution_count": null,
      "outputs": [
        {
          "output_type": "execute_result",
          "data": {
            "text/plain": [
              "array([[12.716021]], dtype=float32)"
            ]
          },
          "metadata": {},
          "execution_count": 20
        }
      ]
    },
    {
      "cell_type": "code",
      "source": [
        "# mae is ~11 (or more) off on average from desired values, \n",
        "# hence prediction is not accurate\n",
        "y_pred + 11"
      ],
      "metadata": {
        "colab": {
          "base_uri": "https://localhost:8080/"
        },
        "id": "g9GQKWm_9XLE",
        "outputId": "ab2c8f74-d17b-43af-e8a1-11c53f7a127a"
      },
      "execution_count": null,
      "outputs": [
        {
          "output_type": "execute_result",
          "data": {
            "text/plain": [
              "array([[23.71602]], dtype=float32)"
            ]
          },
          "metadata": {},
          "execution_count": 22
        }
      ]
    },
    {
      "cell_type": "markdown",
      "source": [
        "### Improving a Model\n",
        "\n",
        "The model can be improved by altering the steps, such as:\n",
        "\n",
        "1. **Creating a model** - add more layers, increase number of hidden units (neurons within hidden layers), change activation function of each layer.\n",
        "2. **Compiling a model** - here we might change the optimization function or **learning rate** of the optimization function.\n",
        "3. **Fitting a model** - here we might fit a model for more **epochs** (train for longer), or give the model more examples to learn from."
      ],
      "metadata": {
        "id": "85lT1cAu9mY-"
      }
    },
    {
      "cell_type": "markdown",
      "source": [
        "### Improve model predictions by altering number of epochs"
      ],
      "metadata": {
        "id": "ZJXrs9n7BOqE"
      }
    },
    {
      "cell_type": "code",
      "source": [
        "# Let's rebuild the model\n",
        "\n",
        "# 1. Create the model\n",
        "model = tf.keras.Sequential()\n",
        "model.add(tf.keras.layers.Dense(1))\n",
        "\n",
        "# 2. Compile the model\n",
        "model.compile(\n",
        "    loss=\"mae\",\n",
        "    optimizer=\"sgd\",\n",
        "    metrics=[\"mae\"]\n",
        ")\n",
        "\n",
        "# 3. Train the model\n",
        "model.fit(tf.expand_dims(X, axis=-1), y, epochs=100)"
      ],
      "metadata": {
        "colab": {
          "base_uri": "https://localhost:8080/"
        },
        "id": "fNdfCMsR_7i9",
        "outputId": "a6ca6867-3bfc-4eba-cf2b-80354a7f019b"
      },
      "execution_count": null,
      "outputs": [
        {
          "output_type": "stream",
          "name": "stdout",
          "text": [
            "Epoch 1/100\n",
            "1/1 [==============================] - 0s 455ms/step - loss: 11.2219 - mae: 11.2219\n",
            "Epoch 2/100\n",
            "1/1 [==============================] - 0s 13ms/step - loss: 11.0894 - mae: 11.0894\n",
            "Epoch 3/100\n",
            "1/1 [==============================] - 0s 11ms/step - loss: 10.9569 - mae: 10.9569\n",
            "Epoch 4/100\n",
            "1/1 [==============================] - 0s 8ms/step - loss: 10.8244 - mae: 10.8244\n",
            "Epoch 5/100\n",
            "1/1 [==============================] - 0s 9ms/step - loss: 10.6919 - mae: 10.6919\n",
            "Epoch 6/100\n",
            "1/1 [==============================] - 0s 19ms/step - loss: 10.5594 - mae: 10.5594\n",
            "Epoch 7/100\n",
            "1/1 [==============================] - 0s 12ms/step - loss: 10.4269 - mae: 10.4269\n",
            "Epoch 8/100\n",
            "1/1 [==============================] - 0s 22ms/step - loss: 10.2944 - mae: 10.2944\n",
            "Epoch 9/100\n",
            "1/1 [==============================] - 0s 15ms/step - loss: 10.1619 - mae: 10.1619\n",
            "Epoch 10/100\n",
            "1/1 [==============================] - 0s 13ms/step - loss: 10.0294 - mae: 10.0294\n",
            "Epoch 11/100\n",
            "1/1 [==============================] - 0s 11ms/step - loss: 9.8969 - mae: 9.8969\n",
            "Epoch 12/100\n",
            "1/1 [==============================] - 0s 11ms/step - loss: 9.7644 - mae: 9.7644\n",
            "Epoch 13/100\n",
            "1/1 [==============================] - 0s 11ms/step - loss: 9.6319 - mae: 9.6319\n",
            "Epoch 14/100\n",
            "1/1 [==============================] - 0s 10ms/step - loss: 9.4994 - mae: 9.4994\n",
            "Epoch 15/100\n",
            "1/1 [==============================] - 0s 12ms/step - loss: 9.3669 - mae: 9.3669\n",
            "Epoch 16/100\n",
            "1/1 [==============================] - 0s 12ms/step - loss: 9.2344 - mae: 9.2344\n",
            "Epoch 17/100\n",
            "1/1 [==============================] - 0s 13ms/step - loss: 9.1019 - mae: 9.1019\n",
            "Epoch 18/100\n",
            "1/1 [==============================] - 0s 8ms/step - loss: 8.9694 - mae: 8.9694\n",
            "Epoch 19/100\n",
            "1/1 [==============================] - 0s 14ms/step - loss: 8.8369 - mae: 8.8369\n",
            "Epoch 20/100\n",
            "1/1 [==============================] - 0s 9ms/step - loss: 8.7044 - mae: 8.7044\n",
            "Epoch 21/100\n",
            "1/1 [==============================] - 0s 8ms/step - loss: 8.5719 - mae: 8.5719\n",
            "Epoch 22/100\n",
            "1/1 [==============================] - 0s 11ms/step - loss: 8.4394 - mae: 8.4394\n",
            "Epoch 23/100\n",
            "1/1 [==============================] - 0s 8ms/step - loss: 8.3069 - mae: 8.3069\n",
            "Epoch 24/100\n",
            "1/1 [==============================] - 0s 8ms/step - loss: 8.1744 - mae: 8.1744\n",
            "Epoch 25/100\n",
            "1/1 [==============================] - 0s 10ms/step - loss: 8.0419 - mae: 8.0419\n",
            "Epoch 26/100\n",
            "1/1 [==============================] - 0s 10ms/step - loss: 7.9094 - mae: 7.9094\n",
            "Epoch 27/100\n",
            "1/1 [==============================] - 0s 8ms/step - loss: 7.7769 - mae: 7.7769\n",
            "Epoch 28/100\n",
            "1/1 [==============================] - 0s 11ms/step - loss: 7.6444 - mae: 7.6444\n",
            "Epoch 29/100\n",
            "1/1 [==============================] - 0s 12ms/step - loss: 7.5119 - mae: 7.5119\n",
            "Epoch 30/100\n",
            "1/1 [==============================] - 0s 11ms/step - loss: 7.3794 - mae: 7.3794\n",
            "Epoch 31/100\n",
            "1/1 [==============================] - 0s 7ms/step - loss: 7.2750 - mae: 7.2750\n",
            "Epoch 32/100\n",
            "1/1 [==============================] - 0s 12ms/step - loss: 7.2694 - mae: 7.2694\n",
            "Epoch 33/100\n",
            "1/1 [==============================] - 0s 15ms/step - loss: 7.2638 - mae: 7.2638\n",
            "Epoch 34/100\n",
            "1/1 [==============================] - 0s 12ms/step - loss: 7.2581 - mae: 7.2581\n",
            "Epoch 35/100\n",
            "1/1 [==============================] - 0s 12ms/step - loss: 7.2525 - mae: 7.2525\n",
            "Epoch 36/100\n",
            "1/1 [==============================] - 0s 11ms/step - loss: 7.2469 - mae: 7.2469\n",
            "Epoch 37/100\n",
            "1/1 [==============================] - 0s 17ms/step - loss: 7.2412 - mae: 7.2412\n",
            "Epoch 38/100\n",
            "1/1 [==============================] - 0s 18ms/step - loss: 7.2356 - mae: 7.2356\n",
            "Epoch 39/100\n",
            "1/1 [==============================] - 0s 7ms/step - loss: 7.2300 - mae: 7.2300\n",
            "Epoch 40/100\n",
            "1/1 [==============================] - 0s 8ms/step - loss: 7.2244 - mae: 7.2244\n",
            "Epoch 41/100\n",
            "1/1 [==============================] - 0s 8ms/step - loss: 7.2188 - mae: 7.2188\n",
            "Epoch 42/100\n",
            "1/1 [==============================] - 0s 8ms/step - loss: 7.2131 - mae: 7.2131\n",
            "Epoch 43/100\n",
            "1/1 [==============================] - 0s 8ms/step - loss: 7.2075 - mae: 7.2075\n",
            "Epoch 44/100\n",
            "1/1 [==============================] - 0s 12ms/step - loss: 7.2019 - mae: 7.2019\n",
            "Epoch 45/100\n",
            "1/1 [==============================] - 0s 12ms/step - loss: 7.1962 - mae: 7.1962\n",
            "Epoch 46/100\n",
            "1/1 [==============================] - 0s 11ms/step - loss: 7.1906 - mae: 7.1906\n",
            "Epoch 47/100\n",
            "1/1 [==============================] - 0s 12ms/step - loss: 7.1850 - mae: 7.1850\n",
            "Epoch 48/100\n",
            "1/1 [==============================] - 0s 12ms/step - loss: 7.1794 - mae: 7.1794\n",
            "Epoch 49/100\n",
            "1/1 [==============================] - 0s 8ms/step - loss: 7.1737 - mae: 7.1737\n",
            "Epoch 50/100\n",
            "1/1 [==============================] - 0s 7ms/step - loss: 7.1681 - mae: 7.1681\n",
            "Epoch 51/100\n",
            "1/1 [==============================] - 0s 9ms/step - loss: 7.1625 - mae: 7.1625\n",
            "Epoch 52/100\n",
            "1/1 [==============================] - 0s 7ms/step - loss: 7.1569 - mae: 7.1569\n",
            "Epoch 53/100\n",
            "1/1 [==============================] - 0s 7ms/step - loss: 7.1512 - mae: 7.1512\n",
            "Epoch 54/100\n",
            "1/1 [==============================] - 0s 8ms/step - loss: 7.1456 - mae: 7.1456\n",
            "Epoch 55/100\n",
            "1/1 [==============================] - 0s 17ms/step - loss: 7.1400 - mae: 7.1400\n",
            "Epoch 56/100\n",
            "1/1 [==============================] - 0s 16ms/step - loss: 7.1344 - mae: 7.1344\n",
            "Epoch 57/100\n",
            "1/1 [==============================] - 0s 16ms/step - loss: 7.1287 - mae: 7.1287\n",
            "Epoch 58/100\n",
            "1/1 [==============================] - 0s 15ms/step - loss: 7.1231 - mae: 7.1231\n",
            "Epoch 59/100\n",
            "1/1 [==============================] - 0s 18ms/step - loss: 7.1175 - mae: 7.1175\n",
            "Epoch 60/100\n",
            "1/1 [==============================] - 0s 38ms/step - loss: 7.1119 - mae: 7.1119\n",
            "Epoch 61/100\n",
            "1/1 [==============================] - 0s 26ms/step - loss: 7.1062 - mae: 7.1062\n",
            "Epoch 62/100\n",
            "1/1 [==============================] - 0s 17ms/step - loss: 7.1006 - mae: 7.1006\n",
            "Epoch 63/100\n",
            "1/1 [==============================] - 0s 21ms/step - loss: 7.0950 - mae: 7.0950\n",
            "Epoch 64/100\n",
            "1/1 [==============================] - 0s 12ms/step - loss: 7.0894 - mae: 7.0894\n",
            "Epoch 65/100\n",
            "1/1 [==============================] - 0s 18ms/step - loss: 7.0838 - mae: 7.0838\n",
            "Epoch 66/100\n",
            "1/1 [==============================] - 0s 11ms/step - loss: 7.0781 - mae: 7.0781\n",
            "Epoch 67/100\n",
            "1/1 [==============================] - 0s 8ms/step - loss: 7.0725 - mae: 7.0725\n",
            "Epoch 68/100\n",
            "1/1 [==============================] - 0s 9ms/step - loss: 7.0669 - mae: 7.0669\n",
            "Epoch 69/100\n",
            "1/1 [==============================] - 0s 8ms/step - loss: 7.0613 - mae: 7.0613\n",
            "Epoch 70/100\n",
            "1/1 [==============================] - 0s 8ms/step - loss: 7.0556 - mae: 7.0556\n",
            "Epoch 71/100\n",
            "1/1 [==============================] - 0s 18ms/step - loss: 7.0500 - mae: 7.0500\n",
            "Epoch 72/100\n",
            "1/1 [==============================] - 0s 36ms/step - loss: 7.0444 - mae: 7.0444\n",
            "Epoch 73/100\n",
            "1/1 [==============================] - 0s 20ms/step - loss: 7.0388 - mae: 7.0388\n",
            "Epoch 74/100\n",
            "1/1 [==============================] - 0s 19ms/step - loss: 7.0331 - mae: 7.0331\n",
            "Epoch 75/100\n",
            "1/1 [==============================] - 0s 20ms/step - loss: 7.0275 - mae: 7.0275\n",
            "Epoch 76/100\n",
            "1/1 [==============================] - 0s 21ms/step - loss: 7.0219 - mae: 7.0219\n",
            "Epoch 77/100\n",
            "1/1 [==============================] - 0s 20ms/step - loss: 7.0163 - mae: 7.0163\n",
            "Epoch 78/100\n",
            "1/1 [==============================] - 0s 17ms/step - loss: 7.0106 - mae: 7.0106\n",
            "Epoch 79/100\n",
            "1/1 [==============================] - 0s 17ms/step - loss: 7.0050 - mae: 7.0050\n",
            "Epoch 80/100\n",
            "1/1 [==============================] - 0s 18ms/step - loss: 6.9994 - mae: 6.9994\n",
            "Epoch 81/100\n",
            "1/1 [==============================] - 0s 12ms/step - loss: 6.9938 - mae: 6.9938\n",
            "Epoch 82/100\n",
            "1/1 [==============================] - 0s 10ms/step - loss: 6.9881 - mae: 6.9881\n",
            "Epoch 83/100\n",
            "1/1 [==============================] - 0s 10ms/step - loss: 6.9825 - mae: 6.9825\n",
            "Epoch 84/100\n",
            "1/1 [==============================] - 0s 7ms/step - loss: 6.9769 - mae: 6.9769\n",
            "Epoch 85/100\n",
            "1/1 [==============================] - 0s 8ms/step - loss: 6.9713 - mae: 6.9713\n",
            "Epoch 86/100\n",
            "1/1 [==============================] - 0s 8ms/step - loss: 6.9656 - mae: 6.9656\n",
            "Epoch 87/100\n",
            "1/1 [==============================] - 0s 7ms/step - loss: 6.9600 - mae: 6.9600\n",
            "Epoch 88/100\n",
            "1/1 [==============================] - 0s 21ms/step - loss: 6.9544 - mae: 6.9544\n",
            "Epoch 89/100\n",
            "1/1 [==============================] - 0s 20ms/step - loss: 6.9488 - mae: 6.9488\n",
            "Epoch 90/100\n",
            "1/1 [==============================] - 0s 15ms/step - loss: 6.9431 - mae: 6.9431\n",
            "Epoch 91/100\n",
            "1/1 [==============================] - 0s 15ms/step - loss: 6.9375 - mae: 6.9375\n",
            "Epoch 92/100\n",
            "1/1 [==============================] - 0s 15ms/step - loss: 6.9319 - mae: 6.9319\n",
            "Epoch 93/100\n",
            "1/1 [==============================] - 0s 15ms/step - loss: 6.9263 - mae: 6.9263\n",
            "Epoch 94/100\n",
            "1/1 [==============================] - 0s 15ms/step - loss: 6.9206 - mae: 6.9206\n",
            "Epoch 95/100\n",
            "1/1 [==============================] - 0s 16ms/step - loss: 6.9150 - mae: 6.9150\n",
            "Epoch 96/100\n",
            "1/1 [==============================] - 0s 24ms/step - loss: 6.9094 - mae: 6.9094\n",
            "Epoch 97/100\n",
            "1/1 [==============================] - 0s 16ms/step - loss: 6.9038 - mae: 6.9038\n",
            "Epoch 98/100\n",
            "1/1 [==============================] - 0s 17ms/step - loss: 6.8981 - mae: 6.8981\n",
            "Epoch 99/100\n",
            "1/1 [==============================] - 0s 18ms/step - loss: 6.8925 - mae: 6.8925\n",
            "Epoch 100/100\n",
            "1/1 [==============================] - 0s 12ms/step - loss: 6.8869 - mae: 6.8869\n"
          ]
        },
        {
          "output_type": "execute_result",
          "data": {
            "text/plain": [
              "<keras.callbacks.History at 0x7fd00f062390>"
            ]
          },
          "metadata": {},
          "execution_count": 24
        }
      ]
    },
    {
      "cell_type": "code",
      "source": [
        "# Remind ourselves of the data\n",
        "X, y"
      ],
      "metadata": {
        "colab": {
          "base_uri": "https://localhost:8080/"
        },
        "id": "4qHpF5cGAsoN",
        "outputId": "282b2c25-97d6-4dfe-fa30-3e5f852ea160"
      },
      "execution_count": null,
      "outputs": [
        {
          "output_type": "execute_result",
          "data": {
            "text/plain": [
              "(<tf.Tensor: shape=(8,), dtype=float32, numpy=array([-7., -4., -1.,  2.,  5.,  8., 11., 14.], dtype=float32)>,\n",
              " <tf.Tensor: shape=(8,), dtype=float32, numpy=array([ 3.,  6.,  9., 12., 15., 18., 21., 24.], dtype=float32)>)"
            ]
          },
          "metadata": {},
          "execution_count": 25
        }
      ]
    },
    {
      "cell_type": "code",
      "source": [
        "# Let's see if our model's prediction has improved\n",
        "model.predict([17.0])"
      ],
      "metadata": {
        "colab": {
          "base_uri": "https://localhost:8080/"
        },
        "id": "vQtuh8xoAxdl",
        "outputId": "4f199165-838b-43ff-dc64-8ebaf70ec163"
      },
      "execution_count": null,
      "outputs": [
        {
          "output_type": "execute_result",
          "data": {
            "text/plain": [
              "array([[29.739855]], dtype=float32)"
            ]
          },
          "metadata": {},
          "execution_count": 26
        }
      ]
    },
    {
      "cell_type": "markdown",
      "source": [
        "### See the effect of changing optimizer from SGD to Adam"
      ],
      "metadata": {
        "id": "Hy9_jHGBBCq_"
      }
    },
    {
      "cell_type": "code",
      "source": [
        "# Let's rebuild the model\n",
        "\n",
        "# 1. Create the model\n",
        "model = tf.keras.Sequential()\n",
        "model.add(tf.keras.layers.Dense(1))\n",
        "\n",
        "# 2. Compile the model\n",
        "model.compile(\n",
        "    loss=\"mae\",\n",
        "    optimizer=\"adam\",\n",
        "    metrics=[\"mae\"]\n",
        ")\n",
        "\n",
        "# 3. Train the model\n",
        "model.fit(tf.expand_dims(X, axis=-1), y, epochs=100)"
      ],
      "metadata": {
        "colab": {
          "base_uri": "https://localhost:8080/"
        },
        "id": "4bnJqaM7BZOS",
        "outputId": "35473d6e-bc16-4fd2-f891-f98fec674af3"
      },
      "execution_count": null,
      "outputs": [
        {
          "output_type": "stream",
          "name": "stdout",
          "text": [
            "Epoch 1/100\n",
            "1/1 [==============================] - 0s 332ms/step - loss: 10.5736 - mae: 10.5736\n",
            "Epoch 2/100\n",
            "1/1 [==============================] - 0s 12ms/step - loss: 10.5691 - mae: 10.5691\n",
            "Epoch 3/100\n",
            "1/1 [==============================] - 0s 14ms/step - loss: 10.5646 - mae: 10.5646\n",
            "Epoch 4/100\n",
            "1/1 [==============================] - 0s 22ms/step - loss: 10.5601 - mae: 10.5601\n",
            "Epoch 5/100\n",
            "1/1 [==============================] - 0s 13ms/step - loss: 10.5556 - mae: 10.5556\n",
            "Epoch 6/100\n",
            "1/1 [==============================] - 0s 8ms/step - loss: 10.5511 - mae: 10.5511\n",
            "Epoch 7/100\n",
            "1/1 [==============================] - 0s 14ms/step - loss: 10.5466 - mae: 10.5466\n",
            "Epoch 8/100\n",
            "1/1 [==============================] - 0s 15ms/step - loss: 10.5421 - mae: 10.5421\n",
            "Epoch 9/100\n",
            "1/1 [==============================] - 0s 13ms/step - loss: 10.5376 - mae: 10.5376\n",
            "Epoch 10/100\n",
            "1/1 [==============================] - 0s 11ms/step - loss: 10.5331 - mae: 10.5331\n",
            "Epoch 11/100\n",
            "1/1 [==============================] - 0s 11ms/step - loss: 10.5286 - mae: 10.5286\n",
            "Epoch 12/100\n",
            "1/1 [==============================] - 0s 11ms/step - loss: 10.5241 - mae: 10.5241\n",
            "Epoch 13/100\n",
            "1/1 [==============================] - 0s 10ms/step - loss: 10.5196 - mae: 10.5196\n",
            "Epoch 14/100\n",
            "1/1 [==============================] - 0s 13ms/step - loss: 10.5151 - mae: 10.5151\n",
            "Epoch 15/100\n",
            "1/1 [==============================] - 0s 7ms/step - loss: 10.5106 - mae: 10.5106\n",
            "Epoch 16/100\n",
            "1/1 [==============================] - 0s 8ms/step - loss: 10.5061 - mae: 10.5061\n",
            "Epoch 17/100\n",
            "1/1 [==============================] - 0s 8ms/step - loss: 10.5016 - mae: 10.5016\n",
            "Epoch 18/100\n",
            "1/1 [==============================] - 0s 7ms/step - loss: 10.4971 - mae: 10.4971\n",
            "Epoch 19/100\n",
            "1/1 [==============================] - 0s 8ms/step - loss: 10.4926 - mae: 10.4926\n",
            "Epoch 20/100\n",
            "1/1 [==============================] - 0s 7ms/step - loss: 10.4881 - mae: 10.4881\n",
            "Epoch 21/100\n",
            "1/1 [==============================] - 0s 8ms/step - loss: 10.4836 - mae: 10.4836\n",
            "Epoch 22/100\n",
            "1/1 [==============================] - 0s 8ms/step - loss: 10.4791 - mae: 10.4791\n",
            "Epoch 23/100\n",
            "1/1 [==============================] - 0s 7ms/step - loss: 10.4746 - mae: 10.4746\n",
            "Epoch 24/100\n",
            "1/1 [==============================] - 0s 8ms/step - loss: 10.4701 - mae: 10.4701\n",
            "Epoch 25/100\n",
            "1/1 [==============================] - 0s 9ms/step - loss: 10.4656 - mae: 10.4656\n",
            "Epoch 26/100\n",
            "1/1 [==============================] - 0s 8ms/step - loss: 10.4611 - mae: 10.4611\n",
            "Epoch 27/100\n",
            "1/1 [==============================] - 0s 8ms/step - loss: 10.4566 - mae: 10.4566\n",
            "Epoch 28/100\n",
            "1/1 [==============================] - 0s 8ms/step - loss: 10.4521 - mae: 10.4521\n",
            "Epoch 29/100\n",
            "1/1 [==============================] - 0s 8ms/step - loss: 10.4476 - mae: 10.4476\n",
            "Epoch 30/100\n",
            "1/1 [==============================] - 0s 8ms/step - loss: 10.4431 - mae: 10.4431\n",
            "Epoch 31/100\n",
            "1/1 [==============================] - 0s 8ms/step - loss: 10.4386 - mae: 10.4386\n",
            "Epoch 32/100\n",
            "1/1 [==============================] - 0s 11ms/step - loss: 10.4341 - mae: 10.4341\n",
            "Epoch 33/100\n",
            "1/1 [==============================] - 0s 8ms/step - loss: 10.4296 - mae: 10.4296\n",
            "Epoch 34/100\n",
            "1/1 [==============================] - 0s 7ms/step - loss: 10.4251 - mae: 10.4251\n",
            "Epoch 35/100\n",
            "1/1 [==============================] - 0s 8ms/step - loss: 10.4206 - mae: 10.4206\n",
            "Epoch 36/100\n",
            "1/1 [==============================] - 0s 8ms/step - loss: 10.4161 - mae: 10.4161\n",
            "Epoch 37/100\n",
            "1/1 [==============================] - 0s 8ms/step - loss: 10.4116 - mae: 10.4116\n",
            "Epoch 38/100\n",
            "1/1 [==============================] - 0s 7ms/step - loss: 10.4071 - mae: 10.4071\n",
            "Epoch 39/100\n",
            "1/1 [==============================] - 0s 6ms/step - loss: 10.4026 - mae: 10.4026\n",
            "Epoch 40/100\n",
            "1/1 [==============================] - 0s 6ms/step - loss: 10.3981 - mae: 10.3981\n",
            "Epoch 41/100\n",
            "1/1 [==============================] - 0s 6ms/step - loss: 10.3936 - mae: 10.3936\n",
            "Epoch 42/100\n",
            "1/1 [==============================] - 0s 7ms/step - loss: 10.3891 - mae: 10.3891\n",
            "Epoch 43/100\n",
            "1/1 [==============================] - 0s 8ms/step - loss: 10.3846 - mae: 10.3846\n",
            "Epoch 44/100\n",
            "1/1 [==============================] - 0s 8ms/step - loss: 10.3801 - mae: 10.3801\n",
            "Epoch 45/100\n",
            "1/1 [==============================] - 0s 9ms/step - loss: 10.3756 - mae: 10.3756\n",
            "Epoch 46/100\n",
            "1/1 [==============================] - 0s 13ms/step - loss: 10.3711 - mae: 10.3711\n",
            "Epoch 47/100\n",
            "1/1 [==============================] - 0s 10ms/step - loss: 10.3666 - mae: 10.3666\n",
            "Epoch 48/100\n",
            "1/1 [==============================] - 0s 12ms/step - loss: 10.3621 - mae: 10.3621\n",
            "Epoch 49/100\n",
            "1/1 [==============================] - 0s 14ms/step - loss: 10.3576 - mae: 10.3576\n",
            "Epoch 50/100\n",
            "1/1 [==============================] - 0s 12ms/step - loss: 10.3531 - mae: 10.3531\n",
            "Epoch 51/100\n",
            "1/1 [==============================] - 0s 21ms/step - loss: 10.3486 - mae: 10.3486\n",
            "Epoch 52/100\n",
            "1/1 [==============================] - 0s 14ms/step - loss: 10.3441 - mae: 10.3441\n",
            "Epoch 53/100\n",
            "1/1 [==============================] - 0s 9ms/step - loss: 10.3396 - mae: 10.3396\n",
            "Epoch 54/100\n",
            "1/1 [==============================] - 0s 11ms/step - loss: 10.3351 - mae: 10.3351\n",
            "Epoch 55/100\n",
            "1/1 [==============================] - 0s 17ms/step - loss: 10.3306 - mae: 10.3306\n",
            "Epoch 56/100\n",
            "1/1 [==============================] - 0s 13ms/step - loss: 10.3261 - mae: 10.3261\n",
            "Epoch 57/100\n",
            "1/1 [==============================] - 0s 14ms/step - loss: 10.3216 - mae: 10.3216\n",
            "Epoch 58/100\n",
            "1/1 [==============================] - 0s 12ms/step - loss: 10.3171 - mae: 10.3171\n",
            "Epoch 59/100\n",
            "1/1 [==============================] - 0s 12ms/step - loss: 10.3126 - mae: 10.3126\n",
            "Epoch 60/100\n",
            "1/1 [==============================] - 0s 9ms/step - loss: 10.3081 - mae: 10.3081\n",
            "Epoch 61/100\n",
            "1/1 [==============================] - 0s 11ms/step - loss: 10.3036 - mae: 10.3036\n",
            "Epoch 62/100\n",
            "1/1 [==============================] - 0s 9ms/step - loss: 10.2991 - mae: 10.2991\n",
            "Epoch 63/100\n",
            "1/1 [==============================] - 0s 14ms/step - loss: 10.2946 - mae: 10.2946\n",
            "Epoch 64/100\n",
            "1/1 [==============================] - 0s 17ms/step - loss: 10.2901 - mae: 10.2901\n",
            "Epoch 65/100\n",
            "1/1 [==============================] - 0s 16ms/step - loss: 10.2856 - mae: 10.2856\n",
            "Epoch 66/100\n",
            "1/1 [==============================] - 0s 20ms/step - loss: 10.2811 - mae: 10.2811\n",
            "Epoch 67/100\n",
            "1/1 [==============================] - 0s 10ms/step - loss: 10.2766 - mae: 10.2766\n",
            "Epoch 68/100\n",
            "1/1 [==============================] - 0s 8ms/step - loss: 10.2721 - mae: 10.2721\n",
            "Epoch 69/100\n",
            "1/1 [==============================] - 0s 7ms/step - loss: 10.2676 - mae: 10.2676\n",
            "Epoch 70/100\n",
            "1/1 [==============================] - 0s 7ms/step - loss: 10.2631 - mae: 10.2631\n",
            "Epoch 71/100\n",
            "1/1 [==============================] - 0s 7ms/step - loss: 10.2586 - mae: 10.2586\n",
            "Epoch 72/100\n",
            "1/1 [==============================] - 0s 7ms/step - loss: 10.2541 - mae: 10.2541\n",
            "Epoch 73/100\n",
            "1/1 [==============================] - 0s 7ms/step - loss: 10.2496 - mae: 10.2496\n",
            "Epoch 74/100\n",
            "1/1 [==============================] - 0s 338ms/step - loss: 10.2451 - mae: 10.2451\n",
            "Epoch 75/100\n",
            "1/1 [==============================] - 0s 11ms/step - loss: 10.2406 - mae: 10.2406\n",
            "Epoch 76/100\n",
            "1/1 [==============================] - 0s 14ms/step - loss: 10.2361 - mae: 10.2361\n",
            "Epoch 77/100\n",
            "1/1 [==============================] - 0s 12ms/step - loss: 10.2316 - mae: 10.2316\n",
            "Epoch 78/100\n",
            "1/1 [==============================] - 0s 10ms/step - loss: 10.2271 - mae: 10.2271\n",
            "Epoch 79/100\n",
            "1/1 [==============================] - 0s 10ms/step - loss: 10.2226 - mae: 10.2226\n",
            "Epoch 80/100\n",
            "1/1 [==============================] - 0s 12ms/step - loss: 10.2181 - mae: 10.2181\n",
            "Epoch 81/100\n",
            "1/1 [==============================] - 0s 7ms/step - loss: 10.2136 - mae: 10.2136\n",
            "Epoch 82/100\n",
            "1/1 [==============================] - 0s 7ms/step - loss: 10.2091 - mae: 10.2091\n",
            "Epoch 83/100\n",
            "1/1 [==============================] - 0s 7ms/step - loss: 10.2046 - mae: 10.2046\n",
            "Epoch 84/100\n",
            "1/1 [==============================] - 0s 17ms/step - loss: 10.2001 - mae: 10.2001\n",
            "Epoch 85/100\n",
            "1/1 [==============================] - 0s 12ms/step - loss: 10.1956 - mae: 10.1956\n",
            "Epoch 86/100\n",
            "1/1 [==============================] - 0s 12ms/step - loss: 10.1911 - mae: 10.1911\n",
            "Epoch 87/100\n",
            "1/1 [==============================] - 0s 11ms/step - loss: 10.1866 - mae: 10.1866\n",
            "Epoch 88/100\n",
            "1/1 [==============================] - 0s 9ms/step - loss: 10.1821 - mae: 10.1821\n",
            "Epoch 89/100\n",
            "1/1 [==============================] - 0s 13ms/step - loss: 10.1776 - mae: 10.1776\n",
            "Epoch 90/100\n",
            "1/1 [==============================] - 0s 8ms/step - loss: 10.1731 - mae: 10.1731\n",
            "Epoch 91/100\n",
            "1/1 [==============================] - 0s 11ms/step - loss: 10.1686 - mae: 10.1686\n",
            "Epoch 92/100\n",
            "1/1 [==============================] - 0s 11ms/step - loss: 10.1641 - mae: 10.1641\n",
            "Epoch 93/100\n",
            "1/1 [==============================] - 0s 21ms/step - loss: 10.1596 - mae: 10.1596\n",
            "Epoch 94/100\n",
            "1/1 [==============================] - 0s 12ms/step - loss: 10.1551 - mae: 10.1551\n",
            "Epoch 95/100\n",
            "1/1 [==============================] - 0s 16ms/step - loss: 10.1506 - mae: 10.1506\n",
            "Epoch 96/100\n",
            "1/1 [==============================] - 0s 15ms/step - loss: 10.1461 - mae: 10.1461\n",
            "Epoch 97/100\n",
            "1/1 [==============================] - 0s 14ms/step - loss: 10.1416 - mae: 10.1416\n",
            "Epoch 98/100\n",
            "1/1 [==============================] - 0s 11ms/step - loss: 10.1371 - mae: 10.1371\n",
            "Epoch 99/100\n",
            "1/1 [==============================] - 0s 12ms/step - loss: 10.1326 - mae: 10.1326\n",
            "Epoch 100/100\n",
            "1/1 [==============================] - 0s 16ms/step - loss: 10.1281 - mae: 10.1281\n"
          ]
        },
        {
          "output_type": "execute_result",
          "data": {
            "text/plain": [
              "<keras.callbacks.History at 0x7fd0100d73d0>"
            ]
          },
          "metadata": {},
          "execution_count": 27
        }
      ]
    },
    {
      "cell_type": "markdown",
      "source": [
        "### Although Adam Optimizer is more stable, SGD provides much faster convergence. "
      ],
      "metadata": {
        "id": "5hfywwrBBlQG"
      }
    },
    {
      "cell_type": "markdown",
      "source": [
        "### Try increasing the number of hidden layers and neurons per layer"
      ],
      "metadata": {
        "id": "Xl5ZRIgqB3DH"
      }
    },
    {
      "cell_type": "code",
      "source": [
        "# 1. Create a bigger model\n",
        "model = tf.keras.Sequential([\n",
        "  tf.keras.layers.Dense(100, activation=\"relu\"),\n",
        "  tf.keras.layers.Dense(100, activation=\"relu\"),\n",
        "  tf.keras.layers.Dense(100, activation=\"relu\"),\n",
        "  tf.keras.layers.Dense(1)                            \n",
        "])\n",
        "\n",
        "# 2. Compile the model\n",
        "model.compile(\n",
        "    loss=\"mae\",\n",
        "    optimizer=tf.keras.optimizers.SGD(learning_rate=0.002),\n",
        "    metrics=[\"mae\"]\n",
        ")\n",
        "\n",
        "# 3. Fit the model\n",
        "model.fit(tf.expand_dims(X, axis=-1), y, epochs=100)"
      ],
      "metadata": {
        "colab": {
          "base_uri": "https://localhost:8080/"
        },
        "id": "eiEMC2SK-QLZ",
        "outputId": "8ffbe2ea-5706-4c32-ab5c-b341f081f0a9"
      },
      "execution_count": null,
      "outputs": [
        {
          "output_type": "stream",
          "name": "stdout",
          "text": [
            "Epoch 1/100\n",
            "1/1 [==============================] - 1s 713ms/step - loss: 13.5644 - mae: 13.5644\n",
            "Epoch 2/100\n",
            "1/1 [==============================] - 0s 18ms/step - loss: 13.4908 - mae: 13.4908\n",
            "Epoch 3/100\n",
            "1/1 [==============================] - 0s 17ms/step - loss: 13.4191 - mae: 13.4191\n",
            "Epoch 4/100\n",
            "1/1 [==============================] - 0s 11ms/step - loss: 13.3474 - mae: 13.3474\n",
            "Epoch 5/100\n",
            "1/1 [==============================] - 0s 11ms/step - loss: 13.2734 - mae: 13.2734\n",
            "Epoch 6/100\n",
            "1/1 [==============================] - 0s 7ms/step - loss: 13.2007 - mae: 13.2007\n",
            "Epoch 7/100\n",
            "1/1 [==============================] - 0s 9ms/step - loss: 13.1332 - mae: 13.1332\n",
            "Epoch 8/100\n",
            "1/1 [==============================] - 0s 10ms/step - loss: 13.0667 - mae: 13.0667\n",
            "Epoch 9/100\n",
            "1/1 [==============================] - 0s 9ms/step - loss: 13.0025 - mae: 13.0025\n",
            "Epoch 10/100\n",
            "1/1 [==============================] - 0s 9ms/step - loss: 12.9397 - mae: 12.9397\n",
            "Epoch 11/100\n",
            "1/1 [==============================] - 0s 9ms/step - loss: 12.8756 - mae: 12.8756\n",
            "Epoch 12/100\n",
            "1/1 [==============================] - 0s 14ms/step - loss: 12.8103 - mae: 12.8103\n",
            "Epoch 13/100\n",
            "1/1 [==============================] - 0s 12ms/step - loss: 12.7443 - mae: 12.7443\n",
            "Epoch 14/100\n",
            "1/1 [==============================] - 0s 12ms/step - loss: 12.6779 - mae: 12.6779\n",
            "Epoch 15/100\n",
            "1/1 [==============================] - 0s 34ms/step - loss: 12.6107 - mae: 12.6107\n",
            "Epoch 16/100\n",
            "1/1 [==============================] - 0s 9ms/step - loss: 12.5422 - mae: 12.5422\n",
            "Epoch 17/100\n",
            "1/1 [==============================] - 0s 9ms/step - loss: 12.4689 - mae: 12.4689\n",
            "Epoch 18/100\n",
            "1/1 [==============================] - 0s 14ms/step - loss: 12.3927 - mae: 12.3927\n",
            "Epoch 19/100\n",
            "1/1 [==============================] - 0s 18ms/step - loss: 12.3155 - mae: 12.3155\n",
            "Epoch 20/100\n",
            "1/1 [==============================] - 0s 9ms/step - loss: 12.2354 - mae: 12.2354\n",
            "Epoch 21/100\n",
            "1/1 [==============================] - 0s 8ms/step - loss: 12.1516 - mae: 12.1516\n",
            "Epoch 22/100\n",
            "1/1 [==============================] - 0s 10ms/step - loss: 12.0623 - mae: 12.0623\n",
            "Epoch 23/100\n",
            "1/1 [==============================] - 0s 21ms/step - loss: 11.9705 - mae: 11.9705\n",
            "Epoch 24/100\n",
            "1/1 [==============================] - 0s 20ms/step - loss: 11.8767 - mae: 11.8767\n",
            "Epoch 25/100\n",
            "1/1 [==============================] - 0s 18ms/step - loss: 11.7809 - mae: 11.7809\n",
            "Epoch 26/100\n",
            "1/1 [==============================] - 0s 15ms/step - loss: 11.6825 - mae: 11.6825\n",
            "Epoch 27/100\n",
            "1/1 [==============================] - 0s 15ms/step - loss: 11.5824 - mae: 11.5824\n",
            "Epoch 28/100\n",
            "1/1 [==============================] - 0s 17ms/step - loss: 11.4783 - mae: 11.4783\n",
            "Epoch 29/100\n",
            "1/1 [==============================] - 0s 16ms/step - loss: 11.3713 - mae: 11.3713\n",
            "Epoch 30/100\n",
            "1/1 [==============================] - 0s 15ms/step - loss: 11.2627 - mae: 11.2627\n",
            "Epoch 31/100\n",
            "1/1 [==============================] - 0s 16ms/step - loss: 11.1504 - mae: 11.1504\n",
            "Epoch 32/100\n",
            "1/1 [==============================] - 0s 19ms/step - loss: 11.0344 - mae: 11.0344\n",
            "Epoch 33/100\n",
            "1/1 [==============================] - 0s 10ms/step - loss: 10.9136 - mae: 10.9136\n",
            "Epoch 34/100\n",
            "1/1 [==============================] - 0s 22ms/step - loss: 10.7888 - mae: 10.7888\n",
            "Epoch 35/100\n",
            "1/1 [==============================] - 0s 15ms/step - loss: 10.6583 - mae: 10.6583\n",
            "Epoch 36/100\n",
            "1/1 [==============================] - 0s 16ms/step - loss: 10.5225 - mae: 10.5225\n",
            "Epoch 37/100\n",
            "1/1 [==============================] - 0s 22ms/step - loss: 10.3812 - mae: 10.3812\n",
            "Epoch 38/100\n",
            "1/1 [==============================] - 0s 18ms/step - loss: 10.2342 - mae: 10.2342\n",
            "Epoch 39/100\n",
            "1/1 [==============================] - 0s 18ms/step - loss: 10.0832 - mae: 10.0832\n",
            "Epoch 40/100\n",
            "1/1 [==============================] - 0s 16ms/step - loss: 9.9234 - mae: 9.9234\n",
            "Epoch 41/100\n",
            "1/1 [==============================] - 0s 16ms/step - loss: 9.7553 - mae: 9.7553\n",
            "Epoch 42/100\n",
            "1/1 [==============================] - 0s 18ms/step - loss: 9.5803 - mae: 9.5803\n",
            "Epoch 43/100\n",
            "1/1 [==============================] - 0s 18ms/step - loss: 9.3930 - mae: 9.3930\n",
            "Epoch 44/100\n",
            "1/1 [==============================] - 0s 19ms/step - loss: 9.1969 - mae: 9.1969\n",
            "Epoch 45/100\n",
            "1/1 [==============================] - 0s 19ms/step - loss: 8.9916 - mae: 8.9916\n",
            "Epoch 46/100\n",
            "1/1 [==============================] - 0s 17ms/step - loss: 8.7744 - mae: 8.7744\n",
            "Epoch 47/100\n",
            "1/1 [==============================] - 0s 17ms/step - loss: 8.5455 - mae: 8.5455\n",
            "Epoch 48/100\n",
            "1/1 [==============================] - 0s 17ms/step - loss: 8.3015 - mae: 8.3015\n",
            "Epoch 49/100\n",
            "1/1 [==============================] - 0s 21ms/step - loss: 8.0418 - mae: 8.0418\n",
            "Epoch 50/100\n",
            "1/1 [==============================] - 0s 17ms/step - loss: 7.7599 - mae: 7.7599\n",
            "Epoch 51/100\n",
            "1/1 [==============================] - 0s 17ms/step - loss: 7.4600 - mae: 7.4600\n",
            "Epoch 52/100\n",
            "1/1 [==============================] - 0s 23ms/step - loss: 7.1399 - mae: 7.1399\n",
            "Epoch 53/100\n",
            "1/1 [==============================] - 0s 18ms/step - loss: 6.7967 - mae: 6.7967\n",
            "Epoch 54/100\n",
            "1/1 [==============================] - 0s 17ms/step - loss: 6.4301 - mae: 6.4301\n",
            "Epoch 55/100\n",
            "1/1 [==============================] - 0s 18ms/step - loss: 6.0369 - mae: 6.0369\n",
            "Epoch 56/100\n",
            "1/1 [==============================] - 0s 15ms/step - loss: 5.6147 - mae: 5.6147\n",
            "Epoch 57/100\n",
            "1/1 [==============================] - 0s 16ms/step - loss: 5.1598 - mae: 5.1598\n",
            "Epoch 58/100\n",
            "1/1 [==============================] - 0s 21ms/step - loss: 4.6692 - mae: 4.6692\n",
            "Epoch 59/100\n",
            "1/1 [==============================] - 0s 16ms/step - loss: 4.1741 - mae: 4.1741\n",
            "Epoch 60/100\n",
            "1/1 [==============================] - 0s 13ms/step - loss: 4.1009 - mae: 4.1009\n",
            "Epoch 61/100\n",
            "1/1 [==============================] - 0s 27ms/step - loss: 4.0261 - mae: 4.0261\n",
            "Epoch 62/100\n",
            "1/1 [==============================] - 0s 19ms/step - loss: 3.9632 - mae: 3.9632\n",
            "Epoch 63/100\n",
            "1/1 [==============================] - 0s 17ms/step - loss: 3.9107 - mae: 3.9107\n",
            "Epoch 64/100\n",
            "1/1 [==============================] - 0s 24ms/step - loss: 3.8571 - mae: 3.8571\n",
            "Epoch 65/100\n",
            "1/1 [==============================] - 0s 9ms/step - loss: 3.8949 - mae: 3.8949\n",
            "Epoch 66/100\n",
            "1/1 [==============================] - 0s 11ms/step - loss: 3.8524 - mae: 3.8524\n",
            "Epoch 67/100\n",
            "1/1 [==============================] - 0s 8ms/step - loss: 3.8912 - mae: 3.8912\n",
            "Epoch 68/100\n",
            "1/1 [==============================] - 0s 23ms/step - loss: 3.8564 - mae: 3.8564\n",
            "Epoch 69/100\n",
            "1/1 [==============================] - 0s 14ms/step - loss: 3.8795 - mae: 3.8795\n",
            "Epoch 70/100\n",
            "1/1 [==============================] - 0s 10ms/step - loss: 3.8605 - mae: 3.8605\n",
            "Epoch 71/100\n",
            "1/1 [==============================] - 0s 10ms/step - loss: 3.8677 - mae: 3.8677\n",
            "Epoch 72/100\n",
            "1/1 [==============================] - 0s 11ms/step - loss: 3.8646 - mae: 3.8646\n",
            "Epoch 73/100\n",
            "1/1 [==============================] - 0s 10ms/step - loss: 3.8559 - mae: 3.8559\n",
            "Epoch 74/100\n",
            "1/1 [==============================] - 0s 9ms/step - loss: 3.8688 - mae: 3.8688\n",
            "Epoch 75/100\n",
            "1/1 [==============================] - 0s 8ms/step - loss: 3.8439 - mae: 3.8439\n",
            "Epoch 76/100\n",
            "1/1 [==============================] - 0s 7ms/step - loss: 3.8730 - mae: 3.8730\n",
            "Epoch 77/100\n",
            "1/1 [==============================] - 0s 7ms/step - loss: 3.8329 - mae: 3.8329\n",
            "Epoch 78/100\n",
            "1/1 [==============================] - 0s 7ms/step - loss: 3.8775 - mae: 3.8775\n",
            "Epoch 79/100\n",
            "1/1 [==============================] - 0s 7ms/step - loss: 3.8445 - mae: 3.8445\n",
            "Epoch 80/100\n",
            "1/1 [==============================] - 0s 7ms/step - loss: 3.8581 - mae: 3.8581\n",
            "Epoch 81/100\n",
            "1/1 [==============================] - 0s 6ms/step - loss: 3.8489 - mae: 3.8489\n",
            "Epoch 82/100\n",
            "1/1 [==============================] - 0s 7ms/step - loss: 3.8459 - mae: 3.8459\n",
            "Epoch 83/100\n",
            "1/1 [==============================] - 0s 11ms/step - loss: 3.8534 - mae: 3.8534\n",
            "Epoch 84/100\n",
            "1/1 [==============================] - 0s 6ms/step - loss: 3.8336 - mae: 3.8336\n",
            "Epoch 85/100\n",
            "1/1 [==============================] - 0s 7ms/step - loss: 3.8578 - mae: 3.8578\n",
            "Epoch 86/100\n",
            "1/1 [==============================] - 0s 6ms/step - loss: 3.8212 - mae: 3.8212\n",
            "Epoch 87/100\n",
            "1/1 [==============================] - 0s 6ms/step - loss: 3.8623 - mae: 3.8623\n",
            "Epoch 88/100\n",
            "1/1 [==============================] - 0s 7ms/step - loss: 3.8224 - mae: 3.8224\n",
            "Epoch 89/100\n",
            "1/1 [==============================] - 0s 12ms/step - loss: 3.8543 - mae: 3.8543\n",
            "Epoch 90/100\n",
            "1/1 [==============================] - 0s 7ms/step - loss: 3.8343 - mae: 3.8343\n",
            "Epoch 91/100\n",
            "1/1 [==============================] - 0s 6ms/step - loss: 3.8346 - mae: 3.8346\n",
            "Epoch 92/100\n",
            "1/1 [==============================] - 0s 6ms/step - loss: 3.8391 - mae: 3.8391\n",
            "Epoch 93/100\n",
            "1/1 [==============================] - 0s 6ms/step - loss: 3.8218 - mae: 3.8218\n",
            "Epoch 94/100\n",
            "1/1 [==============================] - 0s 9ms/step - loss: 3.8439 - mae: 3.8439\n",
            "Epoch 95/100\n",
            "1/1 [==============================] - 0s 7ms/step - loss: 3.8089 - mae: 3.8089\n",
            "Epoch 96/100\n",
            "1/1 [==============================] - 0s 6ms/step - loss: 3.8488 - mae: 3.8488\n",
            "Epoch 97/100\n",
            "1/1 [==============================] - 0s 7ms/step - loss: 3.8091 - mae: 3.8091\n",
            "Epoch 98/100\n",
            "1/1 [==============================] - 0s 7ms/step - loss: 3.8401 - mae: 3.8401\n",
            "Epoch 99/100\n",
            "1/1 [==============================] - 0s 7ms/step - loss: 3.8140 - mae: 3.8140\n",
            "Epoch 100/100\n",
            "1/1 [==============================] - 0s 7ms/step - loss: 3.8285 - mae: 3.8285\n"
          ]
        },
        {
          "output_type": "execute_result",
          "data": {
            "text/plain": [
              "<keras.callbacks.History at 0x7fd0003e2310>"
            ]
          },
          "metadata": {},
          "execution_count": 56
        }
      ]
    },
    {
      "cell_type": "code",
      "source": [
        "model.predict([17.])"
      ],
      "metadata": {
        "colab": {
          "base_uri": "https://localhost:8080/"
        },
        "id": "JV_674OUDzXl",
        "outputId": "aa093d3e-da68-451c-eb8c-e6666a6e6bc2"
      },
      "execution_count": null,
      "outputs": [
        {
          "output_type": "execute_result",
          "data": {
            "text/plain": [
              "array([[31.839039]], dtype=float32)"
            ]
          },
          "metadata": {},
          "execution_count": 49
        }
      ]
    },
    {
      "cell_type": "markdown",
      "source": [
        "### Try switching to Adam optimizer"
      ],
      "metadata": {
        "id": "HHuNqjL3B_8-"
      }
    },
    {
      "cell_type": "code",
      "source": [
        "# 1. Create a bigger model\n",
        "model = tf.keras.Sequential([\n",
        "  tf.keras.layers.Dense(100, activation=\"relu\"),\n",
        "  tf.keras.layers.Dense(100, activation=\"relu\"),\n",
        "  tf.keras.layers.Dense(100, activation=\"relu\"),\n",
        "  tf.keras.layers.Dense(1)                            \n",
        "])\n",
        "\n",
        "# 2. Compile the model\n",
        "model.compile(\n",
        "    loss=\"mae\",\n",
        "    optimizer=tf.keras.optimizers.Adam(learning_rate=0.003),\n",
        "    metrics=[\"mae\"]\n",
        ")\n",
        "\n",
        "# 3. Fit the model\n",
        "model.fit(tf.expand_dims(X, axis=-1), y, epochs=100)"
      ],
      "metadata": {
        "colab": {
          "base_uri": "https://localhost:8080/"
        },
        "id": "dSucfgV0CJXS",
        "outputId": "1a5180fe-7bc1-4ea1-da5e-0787ea3acba2"
      },
      "execution_count": null,
      "outputs": [
        {
          "output_type": "stream",
          "name": "stdout",
          "text": [
            "Epoch 1/100\n",
            "1/1 [==============================] - 0s 461ms/step - loss: 13.5956 - mae: 13.5956\n",
            "Epoch 2/100\n",
            "1/1 [==============================] - 0s 21ms/step - loss: 12.4916 - mae: 12.4916\n",
            "Epoch 3/100\n",
            "1/1 [==============================] - 0s 12ms/step - loss: 11.4001 - mae: 11.4001\n",
            "Epoch 4/100\n",
            "1/1 [==============================] - 0s 10ms/step - loss: 10.4536 - mae: 10.4536\n",
            "Epoch 5/100\n",
            "1/1 [==============================] - 0s 9ms/step - loss: 9.4897 - mae: 9.4897\n",
            "Epoch 6/100\n",
            "1/1 [==============================] - 0s 7ms/step - loss: 8.4820 - mae: 8.4820\n",
            "Epoch 7/100\n",
            "1/1 [==============================] - 0s 9ms/step - loss: 7.2989 - mae: 7.2989\n",
            "Epoch 8/100\n",
            "1/1 [==============================] - 0s 8ms/step - loss: 5.9336 - mae: 5.9336\n",
            "Epoch 9/100\n",
            "1/1 [==============================] - 0s 9ms/step - loss: 4.3575 - mae: 4.3575\n",
            "Epoch 10/100\n",
            "1/1 [==============================] - 0s 7ms/step - loss: 4.0901 - mae: 4.0901\n",
            "Epoch 11/100\n",
            "1/1 [==============================] - 0s 8ms/step - loss: 4.7791 - mae: 4.7791\n",
            "Epoch 12/100\n",
            "1/1 [==============================] - 0s 8ms/step - loss: 5.4336 - mae: 5.4336\n",
            "Epoch 13/100\n",
            "1/1 [==============================] - 0s 8ms/step - loss: 5.7262 - mae: 5.7262\n",
            "Epoch 14/100\n",
            "1/1 [==============================] - 0s 8ms/step - loss: 5.7130 - mae: 5.7130\n",
            "Epoch 15/100\n",
            "1/1 [==============================] - 0s 9ms/step - loss: 5.4716 - mae: 5.4716\n",
            "Epoch 16/100\n",
            "1/1 [==============================] - 0s 8ms/step - loss: 5.0399 - mae: 5.0399\n",
            "Epoch 17/100\n",
            "1/1 [==============================] - 0s 8ms/step - loss: 4.4954 - mae: 4.4954\n",
            "Epoch 18/100\n",
            "1/1 [==============================] - 0s 8ms/step - loss: 4.0292 - mae: 4.0292\n",
            "Epoch 19/100\n",
            "1/1 [==============================] - 0s 8ms/step - loss: 3.8027 - mae: 3.8027\n",
            "Epoch 20/100\n",
            "1/1 [==============================] - 0s 7ms/step - loss: 3.8395 - mae: 3.8395\n",
            "Epoch 21/100\n",
            "1/1 [==============================] - 0s 8ms/step - loss: 4.0913 - mae: 4.0913\n",
            "Epoch 22/100\n",
            "1/1 [==============================] - 0s 8ms/step - loss: 4.2923 - mae: 4.2923\n",
            "Epoch 23/100\n",
            "1/1 [==============================] - 0s 8ms/step - loss: 4.2119 - mae: 4.2119\n",
            "Epoch 24/100\n",
            "1/1 [==============================] - 0s 9ms/step - loss: 3.8864 - mae: 3.8864\n",
            "Epoch 25/100\n",
            "1/1 [==============================] - 0s 9ms/step - loss: 3.6731 - mae: 3.6731\n",
            "Epoch 26/100\n",
            "1/1 [==============================] - 0s 10ms/step - loss: 3.5634 - mae: 3.5634\n",
            "Epoch 27/100\n",
            "1/1 [==============================] - 0s 9ms/step - loss: 3.6740 - mae: 3.6740\n",
            "Epoch 28/100\n",
            "1/1 [==============================] - 0s 8ms/step - loss: 3.6997 - mae: 3.6997\n",
            "Epoch 29/100\n",
            "1/1 [==============================] - 0s 10ms/step - loss: 3.7302 - mae: 3.7302\n",
            "Epoch 30/100\n",
            "1/1 [==============================] - 0s 9ms/step - loss: 3.7839 - mae: 3.7839\n",
            "Epoch 31/100\n",
            "1/1 [==============================] - 0s 9ms/step - loss: 3.6955 - mae: 3.6955\n",
            "Epoch 32/100\n",
            "1/1 [==============================] - 0s 10ms/step - loss: 3.5941 - mae: 3.5941\n",
            "Epoch 33/100\n",
            "1/1 [==============================] - 0s 9ms/step - loss: 3.4846 - mae: 3.4846\n",
            "Epoch 34/100\n",
            "1/1 [==============================] - 0s 16ms/step - loss: 3.3646 - mae: 3.3646\n",
            "Epoch 35/100\n",
            "1/1 [==============================] - 0s 15ms/step - loss: 3.2256 - mae: 3.2256\n",
            "Epoch 36/100\n",
            "1/1 [==============================] - 0s 13ms/step - loss: 3.2018 - mae: 3.2018\n",
            "Epoch 37/100\n",
            "1/1 [==============================] - 0s 12ms/step - loss: 3.1805 - mae: 3.1805\n",
            "Epoch 38/100\n",
            "1/1 [==============================] - 0s 11ms/step - loss: 3.0909 - mae: 3.0909\n",
            "Epoch 39/100\n",
            "1/1 [==============================] - 0s 11ms/step - loss: 2.9393 - mae: 2.9393\n",
            "Epoch 40/100\n",
            "1/1 [==============================] - 0s 11ms/step - loss: 2.8939 - mae: 2.8939\n",
            "Epoch 41/100\n",
            "1/1 [==============================] - 0s 21ms/step - loss: 2.8237 - mae: 2.8237\n",
            "Epoch 42/100\n",
            "1/1 [==============================] - 0s 11ms/step - loss: 2.7273 - mae: 2.7273\n",
            "Epoch 43/100\n",
            "1/1 [==============================] - 0s 9ms/step - loss: 2.6478 - mae: 2.6478\n",
            "Epoch 44/100\n",
            "1/1 [==============================] - 0s 10ms/step - loss: 2.5463 - mae: 2.5463\n",
            "Epoch 45/100\n",
            "1/1 [==============================] - 0s 9ms/step - loss: 2.4254 - mae: 2.4254\n",
            "Epoch 46/100\n",
            "1/1 [==============================] - 0s 10ms/step - loss: 2.3428 - mae: 2.3428\n",
            "Epoch 47/100\n",
            "1/1 [==============================] - 0s 10ms/step - loss: 2.2300 - mae: 2.2300\n",
            "Epoch 48/100\n",
            "1/1 [==============================] - 0s 10ms/step - loss: 2.0928 - mae: 2.0928\n",
            "Epoch 49/100\n",
            "1/1 [==============================] - 0s 9ms/step - loss: 1.9047 - mae: 1.9047\n",
            "Epoch 50/100\n",
            "1/1 [==============================] - 0s 9ms/step - loss: 1.7533 - mae: 1.7533\n",
            "Epoch 51/100\n",
            "1/1 [==============================] - 0s 9ms/step - loss: 1.5479 - mae: 1.5479\n",
            "Epoch 52/100\n",
            "1/1 [==============================] - 0s 10ms/step - loss: 1.3815 - mae: 1.3815\n",
            "Epoch 53/100\n",
            "1/1 [==============================] - 0s 11ms/step - loss: 1.1321 - mae: 1.1321\n",
            "Epoch 54/100\n",
            "1/1 [==============================] - 0s 12ms/step - loss: 1.0607 - mae: 1.0607\n",
            "Epoch 55/100\n",
            "1/1 [==============================] - 0s 16ms/step - loss: 0.8144 - mae: 0.8144\n",
            "Epoch 56/100\n",
            "1/1 [==============================] - 0s 14ms/step - loss: 0.7483 - mae: 0.7483\n",
            "Epoch 57/100\n",
            "1/1 [==============================] - 0s 10ms/step - loss: 0.2536 - mae: 0.2536\n",
            "Epoch 58/100\n",
            "1/1 [==============================] - 0s 11ms/step - loss: 0.2902 - mae: 0.2902\n",
            "Epoch 59/100\n",
            "1/1 [==============================] - 0s 18ms/step - loss: 0.7069 - mae: 0.7069\n",
            "Epoch 60/100\n",
            "1/1 [==============================] - 0s 18ms/step - loss: 0.4023 - mae: 0.4023\n",
            "Epoch 61/100\n",
            "1/1 [==============================] - 0s 18ms/step - loss: 0.4146 - mae: 0.4146\n",
            "Epoch 62/100\n",
            "1/1 [==============================] - 0s 10ms/step - loss: 0.5877 - mae: 0.5877\n",
            "Epoch 63/100\n",
            "1/1 [==============================] - 0s 8ms/step - loss: 0.3766 - mae: 0.3766\n",
            "Epoch 64/100\n",
            "1/1 [==============================] - 0s 7ms/step - loss: 0.9685 - mae: 0.9685\n",
            "Epoch 65/100\n",
            "1/1 [==============================] - 0s 9ms/step - loss: 0.6377 - mae: 0.6377\n",
            "Epoch 66/100\n",
            "1/1 [==============================] - 0s 8ms/step - loss: 0.5777 - mae: 0.5777\n",
            "Epoch 67/100\n",
            "1/1 [==============================] - 0s 9ms/step - loss: 0.8189 - mae: 0.8189\n",
            "Epoch 68/100\n",
            "1/1 [==============================] - 0s 8ms/step - loss: 0.5187 - mae: 0.5187\n",
            "Epoch 69/100\n",
            "1/1 [==============================] - 0s 9ms/step - loss: 0.5609 - mae: 0.5609\n",
            "Epoch 70/100\n",
            "1/1 [==============================] - 0s 8ms/step - loss: 0.6725 - mae: 0.6725\n",
            "Epoch 71/100\n",
            "1/1 [==============================] - 0s 9ms/step - loss: 0.3935 - mae: 0.3935\n",
            "Epoch 72/100\n",
            "1/1 [==============================] - 0s 9ms/step - loss: 0.6761 - mae: 0.6761\n",
            "Epoch 73/100\n",
            "1/1 [==============================] - 0s 9ms/step - loss: 0.7224 - mae: 0.7224\n",
            "Epoch 74/100\n",
            "1/1 [==============================] - 0s 9ms/step - loss: 0.4027 - mae: 0.4027\n",
            "Epoch 75/100\n",
            "1/1 [==============================] - 0s 9ms/step - loss: 0.4947 - mae: 0.4947\n",
            "Epoch 76/100\n",
            "1/1 [==============================] - 0s 13ms/step - loss: 0.4483 - mae: 0.4483\n",
            "Epoch 77/100\n",
            "1/1 [==============================] - 0s 11ms/step - loss: 0.3058 - mae: 0.3058\n",
            "Epoch 78/100\n",
            "1/1 [==============================] - 0s 11ms/step - loss: 0.2310 - mae: 0.2310\n",
            "Epoch 79/100\n",
            "1/1 [==============================] - 0s 11ms/step - loss: 0.2486 - mae: 0.2486\n",
            "Epoch 80/100\n",
            "1/1 [==============================] - 0s 9ms/step - loss: 0.1531 - mae: 0.1531\n",
            "Epoch 81/100\n",
            "1/1 [==============================] - 0s 9ms/step - loss: 0.2342 - mae: 0.2342\n",
            "Epoch 82/100\n",
            "1/1 [==============================] - 0s 9ms/step - loss: 0.5277 - mae: 0.5277\n",
            "Epoch 83/100\n",
            "1/1 [==============================] - 0s 9ms/step - loss: 0.3937 - mae: 0.3937\n",
            "Epoch 84/100\n",
            "1/1 [==============================] - 0s 8ms/step - loss: 0.3604 - mae: 0.3604\n",
            "Epoch 85/100\n",
            "1/1 [==============================] - 0s 7ms/step - loss: 0.2406 - mae: 0.2406\n",
            "Epoch 86/100\n",
            "1/1 [==============================] - 0s 9ms/step - loss: 0.6689 - mae: 0.6689\n",
            "Epoch 87/100\n",
            "1/1 [==============================] - 0s 8ms/step - loss: 0.6935 - mae: 0.6935\n",
            "Epoch 88/100\n",
            "1/1 [==============================] - 0s 8ms/step - loss: 0.3843 - mae: 0.3843\n",
            "Epoch 89/100\n",
            "1/1 [==============================] - 0s 8ms/step - loss: 0.6556 - mae: 0.6556\n",
            "Epoch 90/100\n",
            "1/1 [==============================] - 0s 8ms/step - loss: 0.7264 - mae: 0.7264\n",
            "Epoch 91/100\n",
            "1/1 [==============================] - 0s 8ms/step - loss: 0.3121 - mae: 0.3121\n",
            "Epoch 92/100\n",
            "1/1 [==============================] - 0s 8ms/step - loss: 0.7287 - mae: 0.7287\n",
            "Epoch 93/100\n",
            "1/1 [==============================] - 0s 8ms/step - loss: 0.9761 - mae: 0.9761\n",
            "Epoch 94/100\n",
            "1/1 [==============================] - 0s 7ms/step - loss: 0.7359 - mae: 0.7359\n",
            "Epoch 95/100\n",
            "1/1 [==============================] - 0s 10ms/step - loss: 0.2472 - mae: 0.2472\n",
            "Epoch 96/100\n",
            "1/1 [==============================] - 0s 15ms/step - loss: 0.5552 - mae: 0.5552\n",
            "Epoch 97/100\n",
            "1/1 [==============================] - 0s 14ms/step - loss: 0.4569 - mae: 0.4569\n",
            "Epoch 98/100\n",
            "1/1 [==============================] - 0s 11ms/step - loss: 0.2246 - mae: 0.2246\n",
            "Epoch 99/100\n",
            "1/1 [==============================] - 0s 9ms/step - loss: 0.2129 - mae: 0.2129\n",
            "Epoch 100/100\n",
            "1/1 [==============================] - 0s 7ms/step - loss: 0.3134 - mae: 0.3134\n"
          ]
        },
        {
          "output_type": "execute_result",
          "data": {
            "text/plain": [
              "<keras.callbacks.History at 0x7fd00012ce50>"
            ]
          },
          "metadata": {},
          "execution_count": 61
        }
      ]
    },
    {
      "cell_type": "code",
      "source": [
        "model.predict([17.])"
      ],
      "metadata": {
        "colab": {
          "base_uri": "https://localhost:8080/"
        },
        "id": "g4X3Eg3-Cwl_",
        "outputId": "8c5ebc91-eeae-4f1d-d4aa-8160dc86bb34"
      },
      "execution_count": null,
      "outputs": [
        {
          "output_type": "execute_result",
          "data": {
            "text/plain": [
              "array([[27.83272]], dtype=float32)"
            ]
          },
          "metadata": {},
          "execution_count": 62
        }
      ]
    },
    {
      "cell_type": "markdown",
      "source": [
        "### Evaluating a model\n",
        "\n",
        "Typical workflow:\n",
        "* build a model\n",
        "* fit the model\n",
        "* evaluate performance\n",
        "* tweak the model\n",
        "* repeat steps 2-4 until results are acceptable"
      ],
      "metadata": {
        "id": "lTZLIvEkDkPV"
      }
    },
    {
      "cell_type": "code",
      "source": [
        "# Make a bigger dataset\n",
        "X = tf.range(-100, 100, 4); X"
      ],
      "metadata": {
        "colab": {
          "base_uri": "https://localhost:8080/"
        },
        "id": "v_wcF2n_yFWp",
        "outputId": "e8b590a2-d02f-4c6b-963c-29d6349dae12"
      },
      "execution_count": 2,
      "outputs": [
        {
          "output_type": "execute_result",
          "data": {
            "text/plain": [
              "<tf.Tensor: shape=(50,), dtype=int32, numpy=\n",
              "array([-100,  -96,  -92,  -88,  -84,  -80,  -76,  -72,  -68,  -64,  -60,\n",
              "        -56,  -52,  -48,  -44,  -40,  -36,  -32,  -28,  -24,  -20,  -16,\n",
              "        -12,   -8,   -4,    0,    4,    8,   12,   16,   20,   24,   28,\n",
              "         32,   36,   40,   44,   48,   52,   56,   60,   64,   68,   72,\n",
              "         76,   80,   84,   88,   92,   96], dtype=int32)>"
            ]
          },
          "metadata": {},
          "execution_count": 2
        }
      ]
    },
    {
      "cell_type": "code",
      "source": [
        "# Make labels for the dataset\n",
        "y = X + 10; y"
      ],
      "metadata": {
        "colab": {
          "base_uri": "https://localhost:8080/"
        },
        "id": "IIWxGo_kzY46",
        "outputId": "3e13b2a4-8dd3-4b68-dee3-8a89996529f7"
      },
      "execution_count": 4,
      "outputs": [
        {
          "output_type": "execute_result",
          "data": {
            "text/plain": [
              "<tf.Tensor: shape=(50,), dtype=int32, numpy=\n",
              "array([-90, -86, -82, -78, -74, -70, -66, -62, -58, -54, -50, -46, -42,\n",
              "       -38, -34, -30, -26, -22, -18, -14, -10,  -6,  -2,   2,   6,  10,\n",
              "        14,  18,  22,  26,  30,  34,  38,  42,  46,  50,  54,  58,  62,\n",
              "        66,  70,  74,  78,  82,  86,  90,  94,  98, 102, 106], dtype=int32)>"
            ]
          },
          "metadata": {},
          "execution_count": 4
        }
      ]
    },
    {
      "cell_type": "code",
      "source": [
        "# Visualize data\n",
        "import matplotlib.pyplot as pyplot\n",
        "\n",
        "plt.scatter(X, y)"
      ],
      "metadata": {
        "colab": {
          "base_uri": "https://localhost:8080/",
          "height": 282
        },
        "id": "dl1SZxnAzm_2",
        "outputId": "ba929b16-5fb2-486d-c017-e13a6cde51a0"
      },
      "execution_count": 5,
      "outputs": [
        {
          "output_type": "execute_result",
          "data": {
            "text/plain": [
              "<matplotlib.collections.PathCollection at 0x7f13a23ce310>"
            ]
          },
          "metadata": {},
          "execution_count": 5
        },
        {
          "output_type": "display_data",
          "data": {
            "text/plain": [
              "<Figure size 432x288 with 1 Axes>"
            ],
            "image/png": "[encoded data removed]"
          },
          "metadata": {
            "needs_background": "light"
          }
        }
      ]
    },
    {
      "cell_type": "markdown",
      "source": [
        "### The 3 sets ...\n",
        "\n",
        "* **Training set** - the model learns from this data 70-80% of the total dataset\n",
        "* **Validation set** - the model gets tuned on this data, which is typically 10-15% of data available\n",
        "* **Test set** - the model gets evaluated on this set, typically 10-15% of the total data available.\n",
        "\n",
        "#### **Analogy**:\n",
        "\n",
        "Training set -> Course Materials\n",
        "\n",
        "Validation set -> Practice Exam\n",
        "\n",
        "Test set -> Final Exam"
      ],
      "metadata": {
        "id": "PxYLrKaqzto4"
      }
    },
    {
      "cell_type": "code",
      "source": [
        "len(X)"
      ],
      "metadata": {
        "colab": {
          "base_uri": "https://localhost:8080/"
        },
        "id": "D3IU1Z3l0--4",
        "outputId": "3b0a213a-305f-4787-e0d5-cf2f911c729a"
      },
      "execution_count": 6,
      "outputs": [
        {
          "output_type": "execute_result",
          "data": {
            "text/plain": [
              "50"
            ]
          },
          "metadata": {},
          "execution_count": 6
        }
      ]
    },
    {
      "cell_type": "code",
      "source": [
        "# Split the data into train and test sets\n",
        "X_train = X[:40]  # first 40 are training samples (80% of the data) \n",
        "y_train = y[:40] # last 10 are training samples (20% of the data)\n",
        "\n",
        "X_test = X[40:] # last 20%\n",
        "y_test = y[40:]\n",
        "\n",
        "len(X_train), len(y_train), len(X_test), len(y_test)"
      ],
      "metadata": {
        "colab": {
          "base_uri": "https://localhost:8080/"
        },
        "id": "95rePCx21Agf",
        "outputId": "7aa5844d-574f-4691-b1e3-1c14ff045c11"
      },
      "execution_count": 7,
      "outputs": [
        {
          "output_type": "execute_result",
          "data": {
            "text/plain": [
              "(40, 40, 10, 10)"
            ]
          },
          "metadata": {},
          "execution_count": 7
        }
      ]
    },
    {
      "cell_type": "markdown",
      "source": [
        "### Visualizing the data\n",
        "Now we've got all data, let's visualize it"
      ],
      "metadata": {
        "id": "AVYC1e1Z1s5T"
      }
    },
    {
      "cell_type": "code",
      "source": [
        "plt.figure(figsize=(10, 7))\n",
        "# plot training data in blue\n",
        "plt.scatter(X_train, y_train, c='b', label='Training data')\n",
        "# plot test data in green\n",
        "plt.scatter(X_test, y_test, c='g', label='Testing data')\n",
        "# show a legend\n",
        "plt.legend()"
      ],
      "metadata": {
        "colab": {
          "base_uri": "https://localhost:8080/",
          "height": 445
        },
        "id": "oFYh9ayL11Bl",
        "outputId": "a473b1ce-6b64-41d5-a509-6e2df268f120"
      },
      "execution_count": 8,
      "outputs": [
        {
          "output_type": "execute_result",
          "data": {
            "text/plain": [
              "<matplotlib.legend.Legend at 0x7f13a225ea90>"
            ]
          },
          "metadata": {},
          "execution_count": 8
        },
        {
          "output_type": "display_data",
          "data": {
            "text/plain": [
              "<Figure size 720x504 with 1 Axes>"
            ],
            "image/png": "[encoded data removed]"
          },
          "metadata": {
            "needs_background": "light"
          }
        }
      ]
    },
    {
      "cell_type": "code",
      "source": [
        "# Let's have a look how to build a neural network for this data\n",
        "\n",
        "# 1. Create a model\n",
        "model = tf.keras.Sequential([\n",
        "  tf.keras.layers.Dense(1)  \n",
        "])\n",
        "\n",
        "# 2. Compile the model\n",
        "model.compile(\n",
        "    loss=tf.keras.losses.mae,\n",
        "    optimizer=tf.keras.optimizers.SGD(),\n",
        "    metrics=['mae']\n",
        ")\n",
        "\n",
        "# 3. Fit the model\n",
        "# model.fit(X_train, y_train, epochs=100)"
      ],
      "metadata": {
        "id": "joOrKvKa2Lky"
      },
      "execution_count": 11,
      "outputs": []
    },
    {
      "cell_type": "markdown",
      "source": [
        "### Visualizing the model"
      ],
      "metadata": {
        "id": "ZohJSGCV25w-"
      }
    },
    {
      "cell_type": "code",
      "source": [
        "model.summary()"
      ],
      "metadata": {
        "colab": {
          "base_uri": "https://localhost:8080/",
          "height": 321
        },
        "id": "vw4PVxEM3i3A",
        "outputId": "c05de6bd-417d-4a2b-d298-251e75f7bd94"
      },
      "execution_count": 12,
      "outputs": [
        {
          "output_type": "error",
          "ename": "ValueError",
          "evalue": "ignored",
          "traceback": [
            "\u001b[0;31m---------------------------------------------------------------------------\u001b[0m",
            "\u001b[0;31mValueError\u001b[0m                                Traceback (most recent call last)",
            "\u001b[0;32m<ipython-input-12-5f15418b3570>\u001b[0m in \u001b[0;36m<module>\u001b[0;34m()\u001b[0m\n\u001b[0;32m----> 1\u001b[0;31m \u001b[0mmodel\u001b[0m\u001b[0;34m.\u001b[0m\u001b[0msummary\u001b[0m\u001b[0;34m(\u001b[0m\u001b[0;34m)\u001b[0m\u001b[0;34m\u001b[0m\u001b[0;34m\u001b[0m\u001b[0m\n\u001b[0m",
            "\u001b[0;32m/usr/local/lib/python3.7/dist-packages/keras/engine/training.py\u001b[0m in \u001b[0;36msummary\u001b[0;34m(self, line_length, positions, print_fn, expand_nested, show_trainable)\u001b[0m\n\u001b[1;32m   2774\u001b[0m     \u001b[0;32mif\u001b[0m \u001b[0;32mnot\u001b[0m \u001b[0mself\u001b[0m\u001b[0;34m.\u001b[0m\u001b[0mbuilt\u001b[0m\u001b[0;34m:\u001b[0m\u001b[0;34m\u001b[0m\u001b[0;34m\u001b[0m\u001b[0m\n\u001b[1;32m   2775\u001b[0m       raise ValueError(\n\u001b[0;32m-> 2776\u001b[0;31m           \u001b[0;34m'This model has not yet been built. '\u001b[0m\u001b[0;34m\u001b[0m\u001b[0;34m\u001b[0m\u001b[0m\n\u001b[0m\u001b[1;32m   2777\u001b[0m           \u001b[0;34m'Build the model first by calling `build()` or by calling '\u001b[0m\u001b[0;34m\u001b[0m\u001b[0;34m\u001b[0m\u001b[0m\n\u001b[1;32m   2778\u001b[0m           'the model on a batch of data.')\n",
            "\u001b[0;31mValueError\u001b[0m: This model has not yet been built. Build the model first by calling `build()` or by calling the model on a batch of data."
          ]
        }
      ]
    },
    {
      "cell_type": "code",
      "source": [
        "X[0], y[0]"
      ],
      "metadata": {
        "colab": {
          "base_uri": "https://localhost:8080/"
        },
        "id": "PzDnpyRE4Hi8",
        "outputId": "d098c990-4f4c-4606-f39c-620e41fa0700"
      },
      "execution_count": 13,
      "outputs": [
        {
          "output_type": "execute_result",
          "data": {
            "text/plain": [
              "(<tf.Tensor: shape=(), dtype=int32, numpy=-100>,\n",
              " <tf.Tensor: shape=(), dtype=int32, numpy=-90>)"
            ]
          },
          "metadata": {},
          "execution_count": 13
        }
      ]
    },
    {
      "cell_type": "code",
      "source": [
        "# Let's create a model which builds automatically\n",
        "# by defining input shape argument\n",
        "tf.random.set_seed(42)\n",
        "\n",
        "# 1. Create a model (same as above)\n",
        "model = tf.keras.Sequential([\n",
        "    tf.keras.layers.Dense(10, input_shape=[1], name='input_layer'),\n",
        "    tf.keras.layers.Dense(1, name='output_layer') # input 1 number to predict 1 number\n",
        "],\n",
        "name = 'simple_model')\n",
        "\n",
        "# 2. Compile the model\n",
        "model.compile(\n",
        "    loss=tf.keras.losses.mae,\n",
        "    optimizer=tf.keras.optimizers.SGD(),\n",
        "    metrics=['mae']\n",
        ")\n",
        "\n",
        "# show model summary\n",
        "model.summary()"
      ],
      "metadata": {
        "colab": {
          "base_uri": "https://localhost:8080/"
        },
        "id": "PWkXNSgm3rCT",
        "outputId": "936b9b43-90e7-4363-bfe3-514a98cfba13"
      },
      "execution_count": 30,
      "outputs": [
        {
          "output_type": "stream",
          "name": "stdout",
          "text": [
            "Model: \"simple_model\"\n",
            "_________________________________________________________________\n",
            " Layer (type)                Output Shape              Param #   \n",
            "=================================================================\n",
            " input_layer (Dense)         (None, 10)                20        \n",
            "                                                                 \n",
            " output_layer (Dense)        (None, 1)                 11        \n",
            "                                                                 \n",
            "=================================================================\n",
            "Total params: 31\n",
            "Trainable params: 31\n",
            "Non-trainable params: 0\n",
            "_________________________________________________________________\n"
          ]
        }
      ]
    },
    {
      "cell_type": "markdown",
      "source": [
        "* Total params - total number of parameters in the model\n",
        "* Trainable parameters - these are the parameters (patterns) the model can update as it trains (these are weights and biases).\n",
        "* Non-trainable params - these parameters aren't updated during training (this is typical when you bring in already learnt patterns from other models during **transfer learning**).\n",
        "\n",
        "See reference how to calculate the number of trainable parameters:\n",
        "https://deeplizard.com/learn/video/gmBfb6LNnZs"
      ],
      "metadata": {
        "id": "GGUY4AOT4eg3"
      }
    },
    {
      "cell_type": "code",
      "source": [
        "# Let's fit model to the training data\n",
        "# verbose hides training loop printouts\n",
        "model.fit(X_train, y_train, epochs=100, verbose=0)"
      ],
      "metadata": {
        "colab": {
          "base_uri": "https://localhost:8080/"
        },
        "id": "0aEXtFFo8Kyb",
        "outputId": "38fae01f-2366-4cd3-d176-187dc2e3258d"
      },
      "execution_count": 31,
      "outputs": [
        {
          "output_type": "execute_result",
          "data": {
            "text/plain": [
              "<keras.callbacks.History at 0x7f139f36df10>"
            ]
          },
          "metadata": {},
          "execution_count": 31
        }
      ]
    },
    {
      "cell_type": "code",
      "source": [
        "from tensorflow.keras.utils import plot_model\n",
        "\n",
        "plot_model(model=model, show_shapes=True)"
      ],
      "metadata": {
        "colab": {
          "base_uri": "https://localhost:8080/",
          "height": 312
        },
        "id": "FjPq7-Zn8VsB",
        "outputId": "a81869f4-201b-4506-9cc5-96cbd181ab1a"
      },
      "execution_count": 32,
      "outputs": [
        {
          "output_type": "execute_result",
          "data": {
            "text/plain": [
              "<IPython.core.display.Image object>"
            ],
            "image/png": "[encoded data removed]"
          },
          "metadata": {},
          "execution_count": 32
        }
      ]
    },
    {
      "cell_type": "markdown",
      "source": [
        "### Visualizing model's predictions"
      ],
      "metadata": {
        "id": "oUedMbei9Pk9"
      }
    }
  ]
}